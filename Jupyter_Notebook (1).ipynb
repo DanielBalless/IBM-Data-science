{
 "cells": [
  {
   "cell_type": "markdown",
   "metadata": {},
   "source": [
    "<center>\n",
    "    <img src=\"https://cf-courses-data.s3.us.cloud-object-storage.appdomain.cloud/IBMDeveloperSkillsNetwork-DS0105EN-SkillsNetwork/labs/Module2/images/SN_web_lightmode.png\" width=\"300\" alt=\"cognitiveclass.ai logo\">\n",
    "</center>\n"
   ]
  },
  {
   "cell_type": "markdown",
   "metadata": {},
   "source": [
    "## Exercise 2 - Notebook Title\n",
    "# **Data Science Project**"
   ]
  },
  {
   "cell_type": "markdown",
   "metadata": {},
   "source": [
    "## Exercise 3 - Introduction\n",
    "\"\"\"\n",
    "This notebook provides an overview of essential components in data science, including programming languages, libraries, and tools. Additionally, it includes examples of arithmetic expressions and conversions to demonstrate fundamental operations in Python.\n",
    "\"\"\""
   ]
  },
  {
   "cell_type": "markdown",
   "metadata": {},
   "source": [
    "## Exercise 4 - Data Science Languages\n",
    "\"\"\"\n",
    "Some of the most commonly used programming languages in data science include:\n",
    "\n",
    "1. **Python** - Widely used for data manipulation, machine learning, and visualization.\n",
    "2. **R** - Preferred for statistical analysis and visualization.\n",
    "3. **SQL** - Essential for database querying and management.\n",
    "4. **Scala** - Often used with Apache Spark for big data processing.\n",
    "5. **Java** - Commonly used in enterprise-level data science applications.\n",
    "6. **C++** - Used for high-performance computing and deep learning models.\n",
    "7. **Julia** - Known for high-performance numerical computing.\n",
    "8. **JavaScript** - Used for data visualization and web-based analytics.\n",
    "9. **PHP** - Occasionally used for web-based data analytics.\n",
    "10. **Go** - Used in cloud-based data science applications.\n",
    "11. **Ruby** - Applied in scripting and automation for data analysis.\n",
    "12. **Visual Basic** - Sometimes used for automating data processes in Excel.\n",
    "\"\"\"\n"
   ]
  },
  {
   "cell_type": "markdown",
   "metadata": {},
   "source": [
    "## Exercise 5 - Data Science Libraries\n",
    "\"\"\"\n",
    "Commonly used libraries in data science include:\n",
    "\n",
    "1. **Pandas** - Data manipulation and analysis.\n",
    "2. **NumPy** - Numerical computing and array operations.\n",
    "3. **Matplotlib** - Data visualization.\n",
    "4. **Seaborn** - Statistical data visualization.\n",
    "5. **Scikit-learn** - Machine learning algorithms.\n",
    "6. **Keras** - Deep learning framework.\n",
    "7. **TensorFlow** - Deep learning framework.\n",
    "8. **PyTorch** - Alternative deep learning library.\n",
    "9. **Apache Spark** - Big data processing.\n",
    "10. **Vegas** - Statistical graphics and visualization.\n",
    "11. **Big DL** - Distributed deep learning on Apache Spark.\n",
    "12. **Ggplot2** - Data visualization for R.\n",
    "\"\"\""
   ]
  },
  {
   "cell_type": "code",
   "execution_count": 19,
   "metadata": {},
   "outputs": [
    {
     "data": {
      "text/markdown": [
       "\n",
       "| Tool              | Description                                       |\n",
       "|-------------------|-------------------------------------------------|\n",
       "| **Anaconda**       | Open-source distribution for data science       |\n",
       "| **Jupyter Notebook** | Interactive Python coding environment          |\n",
       "| **R**              | Statistical computing and graphics              |\n",
       "| **Spyder**         | Scientific Python development IDE               |\n",
       "| **Zeppelin**       | Web-based notebook for data analytics           |\n"
      ],
      "text/plain": [
       "<IPython.core.display.Markdown object>"
      ]
     },
     "metadata": {},
     "output_type": "display_data"
    }
   ],
   "source": [
    "## Exercise 6 - Data Science Tools Table\n",
    "from IPython.display import display, Markdown\n",
    "\n",
    "tool_table = \"\"\"\n",
    "| Tool              | Description                                       |\n",
    "|-------------------|-------------------------------------------------|\n",
    "| **Anaconda**       | Open-source distribution for data science       |\n",
    "| **Jupyter Notebook** | Interactive Python coding environment          |\n",
    "| **R**              | Statistical computing and graphics              |\n",
    "| **Spyder**         | Scientific Python development IDE               |\n",
    "| **Zeppelin**       | Web-based notebook for data analytics           |\n",
    "\"\"\"\n",
    "display(Markdown(tool_table))"
   ]
  },
  {
   "cell_type": "markdown",
   "metadata": {},
   "source": [
    "## Exercise 7 - Examples of Arithmetic Expressions\n",
    "\"\"\"\n",
    "### Examples of Arithmetic Expressions:\n",
    "- **Addition:** 3 + 5 = 8\n",
    "- **Subtraction:** 10 - 2 = 8\n",
    "- **Multiplication:** 4 × 2 = 8\n",
    "- **Division:** 16 ÷ 2 = 8\n",
    "- **Exponentiation:** 2^3 = 8\n",
    "- **Modulo:** 17 % 3 = 2 (remainder of 17 divided by 3)\n",
    "\"\"\""
   ]
  },
  {
   "cell_type": "code",
   "execution_count": 20,
   "metadata": {},
   "outputs": [
    {
     "name": "stdout",
     "output_type": "stream",
     "text": [
      "The result of (5 × 3) + 2 is: 17\n"
     ]
    }
   ],
   "source": [
    "## Exercise 8 - Multiplication and Addition\n",
    "# This code performs multiplication and addition\n",
    "# The expected output is 17\n",
    "a = 5\n",
    "b = 3\n",
    "result = (a * b) + 2\n",
    "print(\"The result of (5 × 3) + 2 is:\", result)"
   ]
  },
  {
   "cell_type": "code",
   "execution_count": 21,
   "metadata": {},
   "outputs": [
    {
     "name": "stdout",
     "output_type": "stream",
     "text": [
      "200 minutes is equivalent to 3.33 hours\n"
     ]
    }
   ],
   "source": [
    "## Exercise 9 - Minutes to Hours Conversion\n",
    "# Function to convert minutes to hours\n",
    "def convert_minutes_to_hours(minutes):\n",
    "    return minutes / 60\n",
    "\n",
    "minutes = 200\n",
    "hours = convert_minutes_to_hours(minutes)\n",
    "print(f\"{minutes} minutes is equivalent to {hours:.2f} hours\")"
   ]
  },
  {
   "cell_type": "markdown",
   "metadata": {},
   "source": [
    "## Exercise 10 - List of Goals\n",
    "\"\"\"\n",
    "### **Objectives:**\n",
    "- **Learn about fundamental Data Science concepts.**\n",
    "- **Understand how to use Python for data manipulation.**\n",
    "- **Gain proficiency in Jupyter Notebooks.**\n",
    "- **Explore various data science libraries.**\n",
    "- **Implement basic mathematical operations in Python.**\n",
    "\"\"\""
   ]
  },
  {
   "cell_type": "markdown",
   "metadata": {},
   "source": [
    "## Exercise 11 - Author Name\n",
    "\"\"\"\n",
    "## **Author:**\n",
    "### Daniel Ballesteros\n",
    "\"\"\""
   ]
  }
 ],
 "metadata": {
  "kernelspec": {
   "display_name": "Python 3 (ipykernel)",
   "language": "python",
   "name": "python3"
  },
  "language_info": {
   "codemirror_mode": {
    "name": "ipython",
    "version": 3
   },
   "file_extension": ".py",
   "mimetype": "text/x-python",
   "name": "python",
   "nbconvert_exporter": "python",
   "pygments_lexer": "ipython3",
   "version": "3.12.8"
  }
 },
 "nbformat": 4,
 "nbformat_minor": 4
}
