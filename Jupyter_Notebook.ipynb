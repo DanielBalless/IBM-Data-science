{
 "cells": [
  {
   "cell_type": "markdown",
   "metadata": {},
   "source": [
    "<center>\n",
    "    <img src=\"https://cf-courses-data.s3.us.cloud-object-storage.appdomain.cloud/IBMDeveloperSkillsNetwork-DS0105EN-SkillsNetwork/labs/Module2/images/SN_web_lightmode.png\" width=\"300\" alt=\"cognitiveclass.ai logo\">\n",
    "</center>\n"
   ]
  },
  {
   "cell_type": "markdown",
   "metadata": {},
   "source": [
    "## Exercise 2 - Notebook Title\n",
    "# Data Science Final Project"
   ]
  },
  {
   "cell_type": "markdown",
   "metadata": {},
   "source": [
    "## Exercise 3 - Introduction\n",
    "\n",
    "This notebook contains information about programming languages, libraries, and tools used in data science. It also includes examples of arithmetic expressions and conversions.\n"
   ]
  },
  {
   "cell_type": "markdown",
   "metadata": {},
   "source": [
    "## Exercise 4 - Data Science Languages\n",
    "\n",
    "The main languages used in data science are:\n",
    "- Python\n",
    "- R\n",
    "- SQL\n",
    "- Julia\n",
    "- Scala\n"
   ]
  },
  {
   "cell_type": "markdown",
   "metadata": {
    "jp-MarkdownHeadingCollapsed": true
   },
   "source": [
    "## Exercise 5 - Data Science Libraries\n",
    "\n",
    "Some popular libraries in data science include:\n",
    "- Pandas\n",
    "- NumPy\n",
    "- Matplotlib\n",
    "- Scikit-learn\n",
    "- TensorFlow\n"
   ]
  },
  {
   "cell_type": "markdown",
   "metadata": {},
   "source": [
    "## Exercise 6 - Data Science Tools Table\n",
    "\n",
    "| Tool              | Description                                   |\n",
    "|-------------------|---------------------------------------------|\n",
    "| Jupyter Notebook | Interactive environment for Python coding  |\n",
    "| RStudio          | Development environment for R               |\n",
    "| TensorFlow       | Library for machine learning                |\n",
    "| Apache Spark     | Distributed data processing engine          |\n"
   ]
  },
  {
   "cell_type": "markdown",
   "metadata": {},
   "source": [
    "## Exercise 7 - Examples of Arithmetic Expressions\n",
    "\n",
    "Examples of arithmetic expressions:\n",
    "- 3 + 5 = 8\n",
    "- 10 - 2 = 8\n",
    "- 4 * 2 = 8\n",
    "- 16 / 2 = 8\n"
   ]
  },
  {
   "cell_type": "code",
   "execution_count": 5,
   "metadata": {},
   "outputs": [
    {
     "name": "stdout",
     "output_type": "stream",
     "text": [
      "The result of the operation is: 25\n"
     ]
    }
   ],
   "source": [
    "## Exercise 8 - Multiplication and Addition\n",
    "a = 5\n",
    "b = 3\n",
    "result = (a * b) + 10\n",
    "print(\"The result of the operation is:\", result)"
   ]
  },
  {
   "cell_type": "code",
   "execution_count": 6,
   "metadata": {},
   "outputs": [
    {
     "name": "stdout",
     "output_type": "stream",
     "text": [
      "120 minutes is equivalent to 2.0 hours\n"
     ]
    }
   ],
   "source": [
    "## Exercise 9 - Minutes to Hours Conversion\n",
    "def convert_minutes_to_hours(minutes):\n",
    "    return minutes / 60\n",
    "\n",
    "minutes = 120\n",
    "hours = convert_minutes_to_hours(minutes)\n",
    "print(f\"{minutes} minutes is equivalent to {hours} hours\")"
   ]
  },
  {
   "cell_type": "code",
   "execution_count": 7,
   "metadata": {},
   "outputs": [
    {
     "name": "stdout",
     "output_type": "stream",
     "text": [
      "- Learn about Data Science\n",
      "- Understand Python usage\n",
      "- Get familiar with Jupyter Notebooks\n"
     ]
    }
   ],
   "source": [
    "## Exercise 10 - List of Goals\n",
    "goals = [\"Learn about Data Science\", \"Understand Python usage\", \"Get familiar with Jupyter Notebooks\"]\n",
    "for goal in goals:\n",
    "    print(\"-\", goal)"
   ]
  },
  {
   "cell_type": "markdown",
   "metadata": {},
   "source": [
    "## Exercise 11 - Author Name\n",
    "\n",
    "Author: [Daniel Ballesteros]\n"
   ]
  }
 ],
 "metadata": {
  "kernelspec": {
   "display_name": "Python 3 (ipykernel)",
   "language": "python",
   "name": "python3"
  },
  "language_info": {
   "codemirror_mode": {
    "name": "ipython",
    "version": 3
   },
   "file_extension": ".py",
   "mimetype": "text/x-python",
   "name": "python",
   "nbconvert_exporter": "python",
   "pygments_lexer": "ipython3",
   "version": "3.12.8"
  }
 },
 "nbformat": 4,
 "nbformat_minor": 4
}
